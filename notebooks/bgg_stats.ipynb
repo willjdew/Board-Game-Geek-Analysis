{
 "cells": [
  {
   "cell_type": "markdown",
   "metadata": {},
   "source": [
    "cross validation\n",
    "hyper paramereter tuning\n",
    "grid search cv\n",
    "randomize search cv more efficient\n",
    "shap libary feature importance\n",
    "\n",
    "\n",
    "\n",
    "\n",
    "# BGG Stats\n",
    "\n",
    "There are a lot of different themes of board games.  Two of the most popular themes are Science Fiction and Fantasy."
   ]
  },
  {
   "cell_type": "code",
   "execution_count": 1,
   "metadata": {},
   "outputs": [],
   "source": [
    "import pandas as pd\n",
    "import numpy as np\n",
    "import matplotlib.pyplot as plt\n",
    "%matplotlib inline\n",
    "import seaborn as sns\n",
    "\n",
    "import sys\n",
    "sys.path.append(\"../data/\")"
   ]
  },
  {
   "cell_type": "code",
   "execution_count": 2,
   "metadata": {},
   "outputs": [],
   "source": [
    "df = pd.read_csv('data/bgg_db_1806.csv')"
   ]
  },
  {
   "cell_type": "code",
   "execution_count": 3,
   "metadata": {},
   "outputs": [],
   "source": [
    "# don't pass in the whole column because you only need one column\n",
    "def dummie(column, game_id):\n",
    "    # create a new dataframe from the column series with game_id as the index\n",
    "    new_df = pd.DataFrame(column.str.split(', ').tolist(), index=game_id).stack()\n",
    "    # reset the index\n",
    "    new_df = new_df.reset_index([0, 'game_id'])\n",
    "    # convert categorical variable into dummy variables\n",
    "    new_df = pd.get_dummies(new_df)\n",
    "    # sum and get rid of duplicate rows\n",
    "    new_df = new_df.groupby(['game_id']).sum().reset_index()\n",
    "    # take 0_ out of each column name\n",
    "    new_df.rename(columns=lambda x: x[2:], inplace=True)\n",
    "    new_df.rename(columns={'me_id': 'game_id'}, inplace=True)\n",
    "    \n",
    "    return new_df"
   ]
  },
  {
   "cell_type": "code",
   "execution_count": 4,
   "metadata": {},
   "outputs": [
    {
     "data": {
      "text/html": [
       "<div>\n",
       "<style scoped>\n",
       "    .dataframe tbody tr th:only-of-type {\n",
       "        vertical-align: middle;\n",
       "    }\n",
       "\n",
       "    .dataframe tbody tr th {\n",
       "        vertical-align: top;\n",
       "    }\n",
       "\n",
       "    .dataframe thead th {\n",
       "        text-align: right;\n",
       "    }\n",
       "</style>\n",
       "<table border=\"1\" class=\"dataframe\">\n",
       "  <thead>\n",
       "    <tr style=\"text-align: right;\">\n",
       "      <th></th>\n",
       "      <th>game_id</th>\n",
       "      <th>Abstract Strategy</th>\n",
       "      <th>Action / Dexterity</th>\n",
       "      <th>Adventure</th>\n",
       "      <th>Age of Reason</th>\n",
       "      <th>American Civil War</th>\n",
       "      <th>American Indian Wars</th>\n",
       "      <th>American Revolutionary War</th>\n",
       "      <th>American West</th>\n",
       "      <th>Ancient</th>\n",
       "      <th>...</th>\n",
       "      <th>Travel</th>\n",
       "      <th>Trivia</th>\n",
       "      <th>Video Game Theme</th>\n",
       "      <th>Vietnam War</th>\n",
       "      <th>Wargame</th>\n",
       "      <th>Word Game</th>\n",
       "      <th>World War I</th>\n",
       "      <th>World War II</th>\n",
       "      <th>Zombies</th>\n",
       "      <th>none</th>\n",
       "    </tr>\n",
       "  </thead>\n",
       "  <tbody>\n",
       "    <tr>\n",
       "      <th>0</th>\n",
       "      <td>1</td>\n",
       "      <td>0</td>\n",
       "      <td>0</td>\n",
       "      <td>0</td>\n",
       "      <td>0</td>\n",
       "      <td>0</td>\n",
       "      <td>0</td>\n",
       "      <td>0</td>\n",
       "      <td>0</td>\n",
       "      <td>0</td>\n",
       "      <td>...</td>\n",
       "      <td>0</td>\n",
       "      <td>0</td>\n",
       "      <td>0</td>\n",
       "      <td>0</td>\n",
       "      <td>0</td>\n",
       "      <td>0</td>\n",
       "      <td>0</td>\n",
       "      <td>0</td>\n",
       "      <td>0</td>\n",
       "      <td>0</td>\n",
       "    </tr>\n",
       "    <tr>\n",
       "      <th>1</th>\n",
       "      <td>2</td>\n",
       "      <td>0</td>\n",
       "      <td>0</td>\n",
       "      <td>0</td>\n",
       "      <td>0</td>\n",
       "      <td>0</td>\n",
       "      <td>0</td>\n",
       "      <td>0</td>\n",
       "      <td>0</td>\n",
       "      <td>0</td>\n",
       "      <td>...</td>\n",
       "      <td>0</td>\n",
       "      <td>0</td>\n",
       "      <td>0</td>\n",
       "      <td>0</td>\n",
       "      <td>0</td>\n",
       "      <td>0</td>\n",
       "      <td>0</td>\n",
       "      <td>0</td>\n",
       "      <td>0</td>\n",
       "      <td>0</td>\n",
       "    </tr>\n",
       "    <tr>\n",
       "      <th>2</th>\n",
       "      <td>3</td>\n",
       "      <td>1</td>\n",
       "      <td>0</td>\n",
       "      <td>0</td>\n",
       "      <td>0</td>\n",
       "      <td>0</td>\n",
       "      <td>0</td>\n",
       "      <td>0</td>\n",
       "      <td>0</td>\n",
       "      <td>0</td>\n",
       "      <td>...</td>\n",
       "      <td>0</td>\n",
       "      <td>0</td>\n",
       "      <td>0</td>\n",
       "      <td>0</td>\n",
       "      <td>0</td>\n",
       "      <td>0</td>\n",
       "      <td>0</td>\n",
       "      <td>0</td>\n",
       "      <td>0</td>\n",
       "      <td>0</td>\n",
       "    </tr>\n",
       "    <tr>\n",
       "      <th>3</th>\n",
       "      <td>4</td>\n",
       "      <td>0</td>\n",
       "      <td>0</td>\n",
       "      <td>0</td>\n",
       "      <td>0</td>\n",
       "      <td>0</td>\n",
       "      <td>0</td>\n",
       "      <td>0</td>\n",
       "      <td>0</td>\n",
       "      <td>1</td>\n",
       "      <td>...</td>\n",
       "      <td>0</td>\n",
       "      <td>0</td>\n",
       "      <td>0</td>\n",
       "      <td>0</td>\n",
       "      <td>0</td>\n",
       "      <td>0</td>\n",
       "      <td>0</td>\n",
       "      <td>0</td>\n",
       "      <td>0</td>\n",
       "      <td>0</td>\n",
       "    </tr>\n",
       "    <tr>\n",
       "      <th>4</th>\n",
       "      <td>5</td>\n",
       "      <td>0</td>\n",
       "      <td>0</td>\n",
       "      <td>0</td>\n",
       "      <td>0</td>\n",
       "      <td>0</td>\n",
       "      <td>0</td>\n",
       "      <td>0</td>\n",
       "      <td>0</td>\n",
       "      <td>0</td>\n",
       "      <td>...</td>\n",
       "      <td>0</td>\n",
       "      <td>0</td>\n",
       "      <td>0</td>\n",
       "      <td>0</td>\n",
       "      <td>0</td>\n",
       "      <td>0</td>\n",
       "      <td>0</td>\n",
       "      <td>0</td>\n",
       "      <td>0</td>\n",
       "      <td>0</td>\n",
       "    </tr>\n",
       "  </tbody>\n",
       "</table>\n",
       "<p>5 rows × 85 columns</p>\n",
       "</div>"
      ],
      "text/plain": [
       "   game_id  Abstract Strategy  Action / Dexterity  Adventure  Age of Reason  \\\n",
       "0        1                  0                   0          0              0   \n",
       "1        2                  0                   0          0              0   \n",
       "2        3                  1                   0          0              0   \n",
       "3        4                  0                   0          0              0   \n",
       "4        5                  0                   0          0              0   \n",
       "\n",
       "   American Civil War  American Indian Wars  American Revolutionary War  \\\n",
       "0                   0                     0                           0   \n",
       "1                   0                     0                           0   \n",
       "2                   0                     0                           0   \n",
       "3                   0                     0                           0   \n",
       "4                   0                     0                           0   \n",
       "\n",
       "   American West  Ancient  ...  Travel  Trivia  Video Game Theme  Vietnam War  \\\n",
       "0              0        0  ...       0       0                 0            0   \n",
       "1              0        0  ...       0       0                 0            0   \n",
       "2              0        0  ...       0       0                 0            0   \n",
       "3              0        1  ...       0       0                 0            0   \n",
       "4              0        0  ...       0       0                 0            0   \n",
       "\n",
       "   Wargame  Word Game  World War I  World War II  Zombies  none  \n",
       "0        0          0            0             0        0     0  \n",
       "1        0          0            0             0        0     0  \n",
       "2        0          0            0             0        0     0  \n",
       "3        0          0            0             0        0     0  \n",
       "4        0          0            0             0        0     0  \n",
       "\n",
       "[5 rows x 85 columns]"
      ]
     },
     "execution_count": 4,
     "metadata": {},
     "output_type": "execute_result"
    }
   ],
   "source": [
    "# create dummie \n",
    "df_dummie = dummie(df.category, df.game_id)\n",
    "df_dummie.head()"
   ]
  },
  {
   "cell_type": "code",
   "execution_count": 5,
   "metadata": {},
   "outputs": [],
   "source": [
    "df_dummie = dummie(df.category, df.game_id)\n",
    "dummie_fantasy = df_dummie[['game_id', 'Fantasy']]\n",
    "dummie_scifi = df_dummie[['game_id', 'Science Fiction']]"
   ]
  },
  {
   "cell_type": "code",
   "execution_count": 6,
   "metadata": {},
   "outputs": [],
   "source": [
    "dummie_fantasy = dummie_fantasy[dummie_fantasy['Fantasy'] > 0]\n",
    "f_game_id = dummie_fantasy.game_id.values\n",
    "\n",
    "dummie_scifi = dummie_scifi[dummie_scifi['Science Fiction'] > 0]\n",
    "s_game_id = dummie_scifi.game_id.values"
   ]
  },
  {
   "cell_type": "code",
   "execution_count": 7,
   "metadata": {},
   "outputs": [],
   "source": [
    "df_fantasy = df.loc[df['game_id'].isin(f_game_id)]\n",
    "fantasy_avg = df_fantasy['avg_rating']\n",
    "fantasy_geek = df_fantasy['geek_rating']\n",
    "\n",
    "df_scifi = df.loc[df['game_id'].isin(s_game_id)]\n",
    "scifi_avg = df_scifi['avg_rating']\n",
    "scifi_geek = df_scifi['geek_rating']"
   ]
  },
  {
   "cell_type": "code",
   "execution_count": 11,
   "metadata": {},
   "outputs": [
    {
     "name": "stdout",
     "output_type": "stream",
     "text": [
      "7.050210719999991\n",
      "7.106047526881722\n"
     ]
    }
   ],
   "source": [
    "print(df_fantasy['avg_rating'].mean())\n",
    "print(df_scifi['avg_rating'].mean())"
   ]
  },
  {
   "cell_type": "code",
   "execution_count": 12,
   "metadata": {},
   "outputs": [],
   "source": [
    "# DataQuest bootstrap functions\n",
    "def bootstrap_replicate_1d(data, func):\n",
    "    return func(np.random.choice(data, len(data)))\n",
    "\n",
    "def draw_bs_reps(data, func, size=1):\n",
    "    return np.array([bootstrap_replicate_1d(data, func) for _ in range(size)])"
   ]
  },
  {
   "cell_type": "code",
   "execution_count": 13,
   "metadata": {},
   "outputs": [],
   "source": [
    "# Bootstrap 10,000 replicates of the mean()\n",
    "bs_mean_fantasy_avg = draw_bs_reps(fantasy_avg, np.mean, 10000)\n",
    "bs_mean_fantasy_geek = draw_bs_reps(fantasy_geek, np.mean, 10000)\n",
    "\n",
    "bs_mean_scifi_avg = draw_bs_reps(scifi_avg, np.mean, 10000)\n",
    "bs_mean_scifi_geek = draw_bs_reps(scifi_geek, np.mean, 10000)"
   ]
  },
  {
   "cell_type": "code",
   "execution_count": 14,
   "metadata": {},
   "outputs": [],
   "source": [
    "bs_mean_diff_avg = bs_mean_fantasy_avg - bs_mean_scifi_avg\n",
    "bs_mean_diff_geek = bs_mean_fantasy_geek - bs_mean_scifi_geek\n",
    "\n",
    "conf_int_95_avg = np.percentile(bs_mean_diff_avg, [2.5, 97.5])\n",
    "conf_int_95_geek = np.percentile(bs_mean_diff_geek, [2.5, 97.5])"
   ]
  },
  {
   "cell_type": "code",
   "execution_count": 17,
   "metadata": {},
   "outputs": [
    {
     "data": {
      "image/png": "[encoded data removed]",
      "text/plain": [
       "<Figure size 432x288 with 1 Axes>"
      ]
     },
     "metadata": {
      "needs_background": "light"
     },
     "output_type": "display_data"
    }
   ],
   "source": [
    "plt.hist(bs_mean_diff_avg, density=True, bins=50)\n",
    "plt.axvline(x=conf_int_95_avg[0], color='r')\n",
    "plt.axvline(x=conf_int_95_avg[1], color='r')\n",
    "plt.xlabel('Fantasy/Science Fiction Average Rating Mean Difference')\n",
    "plt.ylabel('Frequency')\n",
    "plt.title('Mean Difference from 10,000 bootrap replicates');"
   ]
  },
  {
   "cell_type": "code",
   "execution_count": 44,
   "metadata": {},
   "outputs": [
    {
     "data": {
      "image/png": "[encoded data removed]",
      "text/plain": [
       "<Figure size 432x288 with 1 Axes>"
      ]
     },
     "metadata": {
      "needs_background": "light"
     },
     "output_type": "display_data"
    }
   ],
   "source": [
    "_ = plt.hist(bs_mean_diff_geek, density=True, bins=50)\n",
    "_ = plt.axvline(x=conf_int_95_geek[0], color='r')\n",
    "_ = plt.axvline(x=conf_int_95_geek[1], color='r')\n",
    "_ = plt.xlabel('Fantasy/Science Fiction Geek Rating Mean Difference')\n",
    "_ = plt.ylabel('Frequency')\n",
    "_ = plt.title('Mean Difference from 10,000 bootrap replicates')"
   ]
  },
  {
   "cell_type": "code",
   "execution_count": 45,
   "metadata": {},
   "outputs": [],
   "source": [
    "def shifted_arrays(whole_data, data, func):\n",
    "    return(data * func(whole_data) / func(data))"
   ]
  },
  {
   "cell_type": "code",
   "execution_count": 46,
   "metadata": {},
   "outputs": [],
   "source": [
    "concate_data_avg = np.concatenate((fantasy_avg, scifi_avg))\n",
    "concate_data_geek = np.concatenate((fantasy_geek, scifi_geek))"
   ]
  },
  {
   "cell_type": "code",
   "execution_count": 47,
   "metadata": {},
   "outputs": [],
   "source": [
    "shifted_fantasy_avg = shifted_arrays(concate_data_avg, fantasy_avg, np.mean)\n",
    "shifted_fantasy_geek = shifted_arrays(concate_data_geek, fantasy_geek, np.mean)\n",
    "\n",
    "shifted_scifi_avg = shifted_arrays(concate_data_avg, scifi_avg, np.mean)\n",
    "shifted_scifi_geek = shifted_arrays(concate_data_geek, scifi_geek, np.mean)"
   ]
  },
  {
   "cell_type": "code",
   "execution_count": 48,
   "metadata": {},
   "outputs": [],
   "source": [
    "bs_mean_shifted_fantasy_avg = draw_bs_reps(shifted_fantasy_avg, np.mean, 10000)\n",
    "bs_mean_shifted_fantasy_geek = draw_bs_reps(shifted_fantasy_geek, np.mean, 10000)\n",
    "\n",
    "bs_mean_shifted_scifi_avg = draw_bs_reps(shifted_scifi_avg, np.mean, 10000)\n",
    "bs_mean_shifted_scifi_geek = draw_bs_reps(shifted_scifi_geek, np.mean, 10000)"
   ]
  },
  {
   "cell_type": "code",
   "execution_count": 49,
   "metadata": {},
   "outputs": [],
   "source": [
    "mean_diff_shifted_avg = bs_mean_shifted_fantasy_avg - bs_mean_shifted_scifi_avg\n",
    "mean_diff_shifted_geek = bs_mean_shifted_fantasy_geek - bs_mean_shifted_scifi_geek\n",
    "\n",
    "measured_mean_diff_avg = np.mean(fantasy_avg) - np.mean(scifi_avg)\n",
    "measured_mean_diff_geek = np.mean(fantasy_geek) - np.mean(scifi_geek)"
   ]
  },
  {
   "cell_type": "code",
   "execution_count": 50,
   "metadata": {},
   "outputs": [],
   "source": [
    "# Compute and print p-value\n",
    "def find_p(bs_diff, measured_diff):\n",
    "    return(np.sum(bs_diff >= measured_diff) / len(bs_diff))"
   ]
  },
  {
   "cell_type": "code",
   "execution_count": 51,
   "metadata": {},
   "outputs": [
    {
     "name": "stdout",
     "output_type": "stream",
     "text": [
      "0.9502 0.7315\n"
     ]
    }
   ],
   "source": [
    "p_avg = find_p(mean_diff_shifted_avg, measured_mean_diff_avg)\n",
    "p_geek = find_p(mean_diff_shifted_geek, measured_mean_diff_geek)\n",
    "\n",
    "print(p_avg, p_geek)"
   ]
  },
  {
   "cell_type": "code",
   "execution_count": 19,
   "metadata": {},
   "outputs": [],
   "source": [
    "df_2017 = df[df['year'] == 2017]\n",
    "df_2004 = df[df['year'] == 2004]"
   ]
  },
  {
   "cell_type": "code",
   "execution_count": 20,
   "metadata": {
    "scrolled": true
   },
   "outputs": [
    {
     "data": {
      "text/html": [
       "<div>\n",
       "<style scoped>\n",
       "    .dataframe tbody tr th:only-of-type {\n",
       "        vertical-align: middle;\n",
       "    }\n",
       "\n",
       "    .dataframe tbody tr th {\n",
       "        vertical-align: top;\n",
       "    }\n",
       "\n",
       "    .dataframe thead th {\n",
       "        text-align: right;\n",
       "    }\n",
       "</style>\n",
       "<table border=\"1\" class=\"dataframe\">\n",
       "  <thead>\n",
       "    <tr style=\"text-align: right;\">\n",
       "      <th></th>\n",
       "      <th>rank</th>\n",
       "      <th>game_id</th>\n",
       "      <th>min_players</th>\n",
       "      <th>max_players</th>\n",
       "      <th>avg_time</th>\n",
       "      <th>min_time</th>\n",
       "      <th>max_time</th>\n",
       "      <th>year</th>\n",
       "      <th>avg_rating</th>\n",
       "      <th>geek_rating</th>\n",
       "      <th>num_votes</th>\n",
       "      <th>age</th>\n",
       "      <th>owned</th>\n",
       "      <th>weight</th>\n",
       "    </tr>\n",
       "  </thead>\n",
       "  <tbody>\n",
       "    <tr>\n",
       "      <th>count</th>\n",
       "      <td>145.000000</td>\n",
       "      <td>145.000000</td>\n",
       "      <td>145.000000</td>\n",
       "      <td>145.000000</td>\n",
       "      <td>145.000000</td>\n",
       "      <td>145.000000</td>\n",
       "      <td>145.000000</td>\n",
       "      <td>145.0</td>\n",
       "      <td>145.000000</td>\n",
       "      <td>145.000000</td>\n",
       "      <td>145.000000</td>\n",
       "      <td>145.000000</td>\n",
       "      <td>145.000000</td>\n",
       "      <td>145.000000</td>\n",
       "    </tr>\n",
       "    <tr>\n",
       "      <th>mean</th>\n",
       "      <td>2468.365517</td>\n",
       "      <td>11800.255172</td>\n",
       "      <td>2.151724</td>\n",
       "      <td>4.793103</td>\n",
       "      <td>124.931034</td>\n",
       "      <td>88.931034</td>\n",
       "      <td>124.931034</td>\n",
       "      <td>2004.0</td>\n",
       "      <td>6.782383</td>\n",
       "      <td>6.111419</td>\n",
       "      <td>3241.220690</td>\n",
       "      <td>10.475862</td>\n",
       "      <td>4282.282759</td>\n",
       "      <td>2.385308</td>\n",
       "    </tr>\n",
       "    <tr>\n",
       "      <th>std</th>\n",
       "      <td>1486.847176</td>\n",
       "      <td>3440.729168</td>\n",
       "      <td>0.604739</td>\n",
       "      <td>2.434978</td>\n",
       "      <td>378.227769</td>\n",
       "      <td>91.296956</td>\n",
       "      <td>378.227769</td>\n",
       "      <td>0.0</td>\n",
       "      <td>0.550939</td>\n",
       "      <td>0.502882</td>\n",
       "      <td>7196.498154</td>\n",
       "      <td>2.315656</td>\n",
       "      <td>9060.670893</td>\n",
       "      <td>0.866412</td>\n",
       "    </tr>\n",
       "    <tr>\n",
       "      <th>min</th>\n",
       "      <td>29.000000</td>\n",
       "      <td>2651.000000</td>\n",
       "      <td>1.000000</td>\n",
       "      <td>2.000000</td>\n",
       "      <td>15.000000</td>\n",
       "      <td>0.000000</td>\n",
       "      <td>15.000000</td>\n",
       "      <td>2004.0</td>\n",
       "      <td>5.792010</td>\n",
       "      <td>5.642810</td>\n",
       "      <td>90.000000</td>\n",
       "      <td>0.000000</td>\n",
       "      <td>158.000000</td>\n",
       "      <td>1.043700</td>\n",
       "    </tr>\n",
       "    <tr>\n",
       "      <th>25%</th>\n",
       "      <td>1099.000000</td>\n",
       "      <td>9804.000000</td>\n",
       "      <td>2.000000</td>\n",
       "      <td>4.000000</td>\n",
       "      <td>30.000000</td>\n",
       "      <td>30.000000</td>\n",
       "      <td>30.000000</td>\n",
       "      <td>2004.0</td>\n",
       "      <td>6.309750</td>\n",
       "      <td>5.728370</td>\n",
       "      <td>404.000000</td>\n",
       "      <td>9.000000</td>\n",
       "      <td>697.000000</td>\n",
       "      <td>1.767400</td>\n",
       "    </tr>\n",
       "    <tr>\n",
       "      <th>50%</th>\n",
       "      <td>2565.000000</td>\n",
       "      <td>11229.000000</td>\n",
       "      <td>2.000000</td>\n",
       "      <td>4.000000</td>\n",
       "      <td>60.000000</td>\n",
       "      <td>50.000000</td>\n",
       "      <td>60.000000</td>\n",
       "      <td>2004.0</td>\n",
       "      <td>6.726960</td>\n",
       "      <td>5.893770</td>\n",
       "      <td>817.000000</td>\n",
       "      <td>10.000000</td>\n",
       "      <td>1445.000000</td>\n",
       "      <td>2.315800</td>\n",
       "    </tr>\n",
       "    <tr>\n",
       "      <th>75%</th>\n",
       "      <td>3735.000000</td>\n",
       "      <td>13071.000000</td>\n",
       "      <td>2.000000</td>\n",
       "      <td>6.000000</td>\n",
       "      <td>120.000000</td>\n",
       "      <td>120.000000</td>\n",
       "      <td>120.000000</td>\n",
       "      <td>2004.0</td>\n",
       "      <td>7.159620</td>\n",
       "      <td>6.365970</td>\n",
       "      <td>2632.000000</td>\n",
       "      <td>12.000000</td>\n",
       "      <td>3783.000000</td>\n",
       "      <td>3.035100</td>\n",
       "    </tr>\n",
       "    <tr>\n",
       "      <th>max</th>\n",
       "      <td>4933.000000</td>\n",
       "      <td>39332.000000</td>\n",
       "      <td>5.000000</td>\n",
       "      <td>16.000000</td>\n",
       "      <td>4500.000000</td>\n",
       "      <td>480.000000</td>\n",
       "      <td>4500.000000</td>\n",
       "      <td>2004.0</td>\n",
       "      <td>8.261290</td>\n",
       "      <td>7.827220</td>\n",
       "      <td>55115.000000</td>\n",
       "      <td>16.000000</td>\n",
       "      <td>70909.000000</td>\n",
       "      <td>4.366700</td>\n",
       "    </tr>\n",
       "  </tbody>\n",
       "</table>\n",
       "</div>"
      ],
      "text/plain": [
       "              rank       game_id  min_players  max_players     avg_time  \\\n",
       "count   145.000000    145.000000   145.000000   145.000000   145.000000   \n",
       "mean   2468.365517  11800.255172     2.151724     4.793103   124.931034   \n",
       "std    1486.847176   3440.729168     0.604739     2.434978   378.227769   \n",
       "min      29.000000   2651.000000     1.000000     2.000000    15.000000   \n",
       "25%    1099.000000   9804.000000     2.000000     4.000000    30.000000   \n",
       "50%    2565.000000  11229.000000     2.000000     4.000000    60.000000   \n",
       "75%    3735.000000  13071.000000     2.000000     6.000000   120.000000   \n",
       "max    4933.000000  39332.000000     5.000000    16.000000  4500.000000   \n",
       "\n",
       "         min_time     max_time    year  avg_rating  geek_rating     num_votes  \\\n",
       "count  145.000000   145.000000   145.0  145.000000   145.000000    145.000000   \n",
       "mean    88.931034   124.931034  2004.0    6.782383     6.111419   3241.220690   \n",
       "std     91.296956   378.227769     0.0    0.550939     0.502882   7196.498154   \n",
       "min      0.000000    15.000000  2004.0    5.792010     5.642810     90.000000   \n",
       "25%     30.000000    30.000000  2004.0    6.309750     5.728370    404.000000   \n",
       "50%     50.000000    60.000000  2004.0    6.726960     5.893770    817.000000   \n",
       "75%    120.000000   120.000000  2004.0    7.159620     6.365970   2632.000000   \n",
       "max    480.000000  4500.000000  2004.0    8.261290     7.827220  55115.000000   \n",
       "\n",
       "              age         owned      weight  \n",
       "count  145.000000    145.000000  145.000000  \n",
       "mean    10.475862   4282.282759    2.385308  \n",
       "std      2.315656   9060.670893    0.866412  \n",
       "min      0.000000    158.000000    1.043700  \n",
       "25%      9.000000    697.000000    1.767400  \n",
       "50%     10.000000   1445.000000    2.315800  \n",
       "75%     12.000000   3783.000000    3.035100  \n",
       "max     16.000000  70909.000000    4.366700  "
      ]
     },
     "execution_count": 20,
     "metadata": {},
     "output_type": "execute_result"
    }
   ],
   "source": [
    "df_2004.describe()"
   ]
  },
  {
   "cell_type": "code",
   "execution_count": 15,
   "metadata": {},
   "outputs": [],
   "source": [
    "def bootstrap_replicate_1d(data, func):\n",
    "    return func(np.random.choice(data, len(data)))"
   ]
  },
  {
   "cell_type": "code",
   "execution_count": 13,
   "metadata": {},
   "outputs": [],
   "source": [
    "def draw_bs_reps(data, func, size=1):\n",
    "    return np.array([bootstrap_replicate_1d(data, func) for _ in range(size)])"
   ]
  },
  {
   "cell_type": "code",
   "execution_count": 10,
   "metadata": {},
   "outputs": [],
   "source": [
    "# Generate Shifted arrays\n",
    "def shifted_arrays(data, stat_data, stat):\n",
    "    return(data - stat(data) + stat_data)"
   ]
  },
  {
   "cell_type": "code",
   "execution_count": 11,
   "metadata": {},
   "outputs": [],
   "source": [
    "# A two sample boostrap hypothesis for difference\n",
    "def bootstrap_differences(data_1, data_2, stat, size=1):\n",
    "    # Concatenate forces: forces_concat\n",
    "    data_concat = np.concatenate((data_1, data_2))\n",
    "    \n",
    "    # Compute stat of all data\n",
    "    stat_data = stat(data_concat)\n",
    "    \n",
    "    # Generate Shifted arrays\n",
    "    data_1_shifted = shifted_arrays(data_1, stat_data, stat)\n",
    "    data_2_shifted = shifted_arrays(data_2, stat_data, stat)\n",
    "\n",
    "    # Compute size bootstrap replicates from shifted arrays\n",
    "    bs_data_1 = draw_bs_reps(data_1_shifted, stat, size)\n",
    "    bs_data_2 = draw_bs_reps(data_2_shifted, stat, size)\n",
    "    \n",
    "    # Get replicates of difference of stat\n",
    "    bs_replicated = bs_data_1 - bs_data_2\n",
    "    \n",
    "    return bs_replicated"
   ]
  },
  {
   "cell_type": "code",
   "execution_count": 19,
   "metadata": {},
   "outputs": [],
   "source": [
    "geek_rating_2004 = df_2004['geek_rating']\n",
    "geek_rating_2017 = df_2017['geek_rating']\n",
    "\n",
    "avg_rating_2004 = df_2004['geek_rating']\n",
    "avg_rating_2017 = df_2017['geek_rating']"
   ]
  },
  {
   "cell_type": "code",
   "execution_count": 20,
   "metadata": {
    "scrolled": true
   },
   "outputs": [],
   "source": [
    "bs_geek_rating_mean = bootstrap_differences(geek_rating_2004, geek_rating_2017, np.mean, 10000)\n",
    "bs_avg_rating_mean = bootstrap_differences(avg_rating_2004, avg_rating_2017, np.mean, 10000)"
   ]
  },
  {
   "cell_type": "code",
   "execution_count": 17,
   "metadata": {},
   "outputs": [],
   "source": [
    "# Compute difference of stat impact data from experiment\n",
    "def diff_of_stat(data_1, data_2, stat):\n",
    "    return stat(data_1) - stat(data_2)"
   ]
  },
  {
   "cell_type": "code",
   "execution_count": 18,
   "metadata": {},
   "outputs": [],
   "source": [
    "# Compute and print p-value\n",
    "def find_p(data, diff_stat):\n",
    "    return(np.sum(data >= diff_stat) / len(data))"
   ]
  },
  {
   "cell_type": "code",
   "execution_count": 23,
   "metadata": {},
   "outputs": [
    {
     "data": {
      "text/plain": [
       "0.3127"
      ]
     },
     "execution_count": 23,
     "metadata": {},
     "output_type": "execute_result"
    }
   ],
   "source": [
    "emp_diff_mean_geek = diff_of_stat(geek_rating_2004, geek_rating_2017, np.mean)\n",
    "geek_p = find_p(bs_geek_rating_mean, emp_diff_mean_geek)\n",
    "geek_p"
   ]
  },
  {
   "cell_type": "code",
   "execution_count": 24,
   "metadata": {},
   "outputs": [
    {
     "data": {
      "text/plain": [
       "0.3184"
      ]
     },
     "execution_count": 24,
     "metadata": {},
     "output_type": "execute_result"
    }
   ],
   "source": [
    "emp_diff_mean_avg = diff_of_stat(avg_rating_2004, avg_rating_2017, np.mean)\n",
    "avg_p = find_p(bs_avg_rating_mean, emp_diff_mean_avg)\n",
    "avg_p"
   ]
  },
  {
   "cell_type": "code",
   "execution_count": 25,
   "metadata": {},
   "outputs": [],
   "source": [
    "geek_boot_mean_2004 = draw_bs_reps(geek_rating_2004, np.mean, 10000)\n",
    "geek_boot_mean_2017 = draw_bs_reps(geek_rating_2017, np.mean, 10000)"
   ]
  },
  {
   "cell_type": "code",
   "execution_count": 27,
   "metadata": {},
   "outputs": [],
   "source": [
    "mean_diff_geek = geek_boot_mean_2004 - geek_boot_mean_2017"
   ]
  },
  {
   "cell_type": "code",
   "execution_count": 28,
   "metadata": {},
   "outputs": [],
   "source": [
    "gbm_2004 = np.mean(geek_boot_mean_2004)\n",
    "gbm_2017 = np.mean(geek_boot_mean_2017)\n",
    "mdg = np.mean(mean_diff_geek)"
   ]
  },
  {
   "cell_type": "code",
   "execution_count": 31,
   "metadata": {},
   "outputs": [
    {
     "data": {
      "text/plain": [
       "Text(0.5, 0, 'Mean Charges')"
      ]
     },
     "execution_count": 31,
     "metadata": {},
     "output_type": "execute_result"
    },
    {
     "data": {
      "image/png": "[encoded data removed]",
      "text/plain": [
       "<Figure size 432x288 with 1 Axes>"
      ]
     },
     "metadata": {
      "needs_background": "light"
     },
     "output_type": "display_data"
    }
   ],
   "source": [
    "plt.hist(mean_diff_geek, density=True, bins=50)\n",
    "plt.axvline(x=gbm_2004, color='r')\n",
    "plt.axvline(x=gbm_2017, color='g')\n",
    "plt.axvline(x=mdg, color='b')\n",
    "plt.xlabel('Mean Charges')"
   ]
  }
 ],
 "metadata": {
  "kernelspec": {
   "display_name": "Python 3",
   "language": "python",
   "name": "python3"
  },
  "language_info": {
   "codemirror_mode": {
    "name": "ipython",
    "version": 3
   },
   "file_extension": ".py",
   "mimetype": "text/x-python",
   "name": "python",
   "nbconvert_exporter": "python",
   "pygments_lexer": "ipython3",
   "version": "3.7.3"
  }
 },
 "nbformat": 4,
 "nbformat_minor": 2
}
