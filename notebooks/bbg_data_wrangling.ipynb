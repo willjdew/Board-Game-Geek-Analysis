{
 "cells": [
  {
   "cell_type": "markdown",
   "metadata": {},
   "source": [
    "# Board Game Geek Data Wrangling\n",
    "\n",
    "Board Game Geek is the largest site of board game data on the internet.  It has a ton of information about thousands of board games.  Data points like year of publication, min and max players, theme, designer etc.\n",
    "\n",
    "I obtained the data from kaggle.com in the following link:\n",
    "https://www.kaggle.com/mrpantherson/board-game-data"
   ]
  },
  {
   "cell_type": "markdown",
   "metadata": {},
   "source": [
    "#### Load Data and Data Explorization"
   ]
  },
  {
   "cell_type": "code",
   "execution_count": 1,
   "metadata": {},
   "outputs": [],
   "source": [
    "import pandas as pd\n",
    "import numpy as np\n",
    "import matplotlib.pyplot as plt\n",
    "%matplotlib inline\n",
    "import seaborn as sns"
   ]
  },
  {
   "cell_type": "code",
   "execution_count": 2,
   "metadata": {
    "scrolled": true
   },
   "outputs": [],
   "source": [
    "df = pd.read_csv('../data/bgg_db_1806.csv')"
   ]
  },
  {
   "cell_type": "code",
   "execution_count": 3,
   "metadata": {
    "scrolled": true
   },
   "outputs": [
    {
     "data": {
      "text/html": [
       "<div>\n",
       "<style scoped>\n",
       "    .dataframe tbody tr th:only-of-type {\n",
       "        vertical-align: middle;\n",
       "    }\n",
       "\n",
       "    .dataframe tbody tr th {\n",
       "        vertical-align: top;\n",
       "    }\n",
       "\n",
       "    .dataframe thead th {\n",
       "        text-align: right;\n",
       "    }\n",
       "</style>\n",
       "<table border=\"1\" class=\"dataframe\">\n",
       "  <thead>\n",
       "    <tr style=\"text-align: right;\">\n",
       "      <th></th>\n",
       "      <th>rank</th>\n",
       "      <th>bgg_url</th>\n",
       "      <th>game_id</th>\n",
       "      <th>names</th>\n",
       "      <th>min_players</th>\n",
       "      <th>max_players</th>\n",
       "      <th>avg_time</th>\n",
       "      <th>min_time</th>\n",
       "      <th>max_time</th>\n",
       "      <th>year</th>\n",
       "      <th>avg_rating</th>\n",
       "      <th>geek_rating</th>\n",
       "      <th>num_votes</th>\n",
       "      <th>image_url</th>\n",
       "      <th>age</th>\n",
       "      <th>mechanic</th>\n",
       "      <th>owned</th>\n",
       "      <th>category</th>\n",
       "      <th>designer</th>\n",
       "      <th>weight</th>\n",
       "    </tr>\n",
       "  </thead>\n",
       "  <tbody>\n",
       "    <tr>\n",
       "      <th>0</th>\n",
       "      <td>1</td>\n",
       "      <td>https://boardgamegeek.com/boardgame/174430/glo...</td>\n",
       "      <td>174430</td>\n",
       "      <td>Gloomhaven</td>\n",
       "      <td>1</td>\n",
       "      <td>4</td>\n",
       "      <td>120</td>\n",
       "      <td>60</td>\n",
       "      <td>120</td>\n",
       "      <td>2017</td>\n",
       "      <td>8.98893</td>\n",
       "      <td>8.61858</td>\n",
       "      <td>15376</td>\n",
       "      <td>https://cf.geekdo-images.com/original/img/lDN3...</td>\n",
       "      <td>12</td>\n",
       "      <td>Action / Movement Programming, Co-operative Pl...</td>\n",
       "      <td>25928</td>\n",
       "      <td>Adventure, Exploration, Fantasy, Fighting, Min...</td>\n",
       "      <td>Isaac Childres</td>\n",
       "      <td>3.7543</td>\n",
       "    </tr>\n",
       "    <tr>\n",
       "      <th>1</th>\n",
       "      <td>2</td>\n",
       "      <td>https://boardgamegeek.com/boardgame/161936/pan...</td>\n",
       "      <td>161936</td>\n",
       "      <td>Pandemic Legacy: Season 1</td>\n",
       "      <td>2</td>\n",
       "      <td>4</td>\n",
       "      <td>60</td>\n",
       "      <td>60</td>\n",
       "      <td>60</td>\n",
       "      <td>2015</td>\n",
       "      <td>8.66140</td>\n",
       "      <td>8.50163</td>\n",
       "      <td>26063</td>\n",
       "      <td>https://cf.geekdo-images.com/original/img/P_Sw...</td>\n",
       "      <td>13</td>\n",
       "      <td>Action Point Allowance System, Co-operative Pl...</td>\n",
       "      <td>41605</td>\n",
       "      <td>Environmental, Medical</td>\n",
       "      <td>Rob Daviau, Matt Leacock</td>\n",
       "      <td>2.8210</td>\n",
       "    </tr>\n",
       "    <tr>\n",
       "      <th>2</th>\n",
       "      <td>3</td>\n",
       "      <td>https://boardgamegeek.com/boardgame/182028/thr...</td>\n",
       "      <td>182028</td>\n",
       "      <td>Through the Ages: A New Story of Civilization</td>\n",
       "      <td>2</td>\n",
       "      <td>4</td>\n",
       "      <td>240</td>\n",
       "      <td>180</td>\n",
       "      <td>240</td>\n",
       "      <td>2015</td>\n",
       "      <td>8.60673</td>\n",
       "      <td>8.30183</td>\n",
       "      <td>12352</td>\n",
       "      <td>https://cf.geekdo-images.com/original/img/1d2h...</td>\n",
       "      <td>14</td>\n",
       "      <td>Action Point Allowance System, Auction/Bidding...</td>\n",
       "      <td>15848</td>\n",
       "      <td>Card Game, Civilization, Economic</td>\n",
       "      <td>Vlaada Chvátil</td>\n",
       "      <td>4.3678</td>\n",
       "    </tr>\n",
       "    <tr>\n",
       "      <th>3</th>\n",
       "      <td>4</td>\n",
       "      <td>https://boardgamegeek.com/boardgame/167791/ter...</td>\n",
       "      <td>167791</td>\n",
       "      <td>Terraforming Mars</td>\n",
       "      <td>1</td>\n",
       "      <td>5</td>\n",
       "      <td>120</td>\n",
       "      <td>120</td>\n",
       "      <td>120</td>\n",
       "      <td>2016</td>\n",
       "      <td>8.38461</td>\n",
       "      <td>8.19914</td>\n",
       "      <td>26004</td>\n",
       "      <td>https://cf.geekdo-images.com/original/img/o8z_...</td>\n",
       "      <td>12</td>\n",
       "      <td>Card Drafting, Hand Management, Set Collection...</td>\n",
       "      <td>33340</td>\n",
       "      <td>Economic, Environmental, Industry / Manufactur...</td>\n",
       "      <td>Jacob Fryxelius</td>\n",
       "      <td>3.2456</td>\n",
       "    </tr>\n",
       "    <tr>\n",
       "      <th>4</th>\n",
       "      <td>5</td>\n",
       "      <td>https://boardgamegeek.com/boardgame/12333/twil...</td>\n",
       "      <td>12333</td>\n",
       "      <td>Twilight Struggle</td>\n",
       "      <td>2</td>\n",
       "      <td>2</td>\n",
       "      <td>180</td>\n",
       "      <td>120</td>\n",
       "      <td>180</td>\n",
       "      <td>2005</td>\n",
       "      <td>8.33954</td>\n",
       "      <td>8.19787</td>\n",
       "      <td>31301</td>\n",
       "      <td>https://cf.geekdo-images.com/original/img/ZPnn...</td>\n",
       "      <td>13</td>\n",
       "      <td>Area Control / Area Influence, Campaign / Batt...</td>\n",
       "      <td>42952</td>\n",
       "      <td>Modern Warfare, Political, Wargame</td>\n",
       "      <td>Ananda Gupta, Jason Matthews</td>\n",
       "      <td>3.5518</td>\n",
       "    </tr>\n",
       "  </tbody>\n",
       "</table>\n",
       "</div>"
      ],
      "text/plain": [
       "   rank                                            bgg_url  game_id  \\\n",
       "0     1  https://boardgamegeek.com/boardgame/174430/glo...   174430   \n",
       "1     2  https://boardgamegeek.com/boardgame/161936/pan...   161936   \n",
       "2     3  https://boardgamegeek.com/boardgame/182028/thr...   182028   \n",
       "3     4  https://boardgamegeek.com/boardgame/167791/ter...   167791   \n",
       "4     5  https://boardgamegeek.com/boardgame/12333/twil...    12333   \n",
       "\n",
       "                                           names  min_players  max_players  \\\n",
       "0                                     Gloomhaven            1            4   \n",
       "1                      Pandemic Legacy: Season 1            2            4   \n",
       "2  Through the Ages: A New Story of Civilization            2            4   \n",
       "3                              Terraforming Mars            1            5   \n",
       "4                              Twilight Struggle            2            2   \n",
       "\n",
       "   avg_time  min_time  max_time  year  avg_rating  geek_rating  num_votes  \\\n",
       "0       120        60       120  2017     8.98893      8.61858      15376   \n",
       "1        60        60        60  2015     8.66140      8.50163      26063   \n",
       "2       240       180       240  2015     8.60673      8.30183      12352   \n",
       "3       120       120       120  2016     8.38461      8.19914      26004   \n",
       "4       180       120       180  2005     8.33954      8.19787      31301   \n",
       "\n",
       "                                           image_url  age  \\\n",
       "0  https://cf.geekdo-images.com/original/img/lDN3...   12   \n",
       "1  https://cf.geekdo-images.com/original/img/P_Sw...   13   \n",
       "2  https://cf.geekdo-images.com/original/img/1d2h...   14   \n",
       "3  https://cf.geekdo-images.com/original/img/o8z_...   12   \n",
       "4  https://cf.geekdo-images.com/original/img/ZPnn...   13   \n",
       "\n",
       "                                            mechanic  owned  \\\n",
       "0  Action / Movement Programming, Co-operative Pl...  25928   \n",
       "1  Action Point Allowance System, Co-operative Pl...  41605   \n",
       "2  Action Point Allowance System, Auction/Bidding...  15848   \n",
       "3  Card Drafting, Hand Management, Set Collection...  33340   \n",
       "4  Area Control / Area Influence, Campaign / Batt...  42952   \n",
       "\n",
       "                                            category  \\\n",
       "0  Adventure, Exploration, Fantasy, Fighting, Min...   \n",
       "1                             Environmental, Medical   \n",
       "2                  Card Game, Civilization, Economic   \n",
       "3  Economic, Environmental, Industry / Manufactur...   \n",
       "4                 Modern Warfare, Political, Wargame   \n",
       "\n",
       "                       designer  weight  \n",
       "0                Isaac Childres  3.7543  \n",
       "1      Rob Daviau, Matt Leacock  2.8210  \n",
       "2                Vlaada Chvátil  4.3678  \n",
       "3               Jacob Fryxelius  3.2456  \n",
       "4  Ananda Gupta, Jason Matthews  3.5518  "
      ]
     },
     "execution_count": 3,
     "metadata": {},
     "output_type": "execute_result"
    }
   ],
   "source": [
    "df.head(5)"
   ]
  },
  {
   "cell_type": "code",
   "execution_count": 4,
   "metadata": {
    "scrolled": true
   },
   "outputs": [
    {
     "data": {
      "text/html": [
       "<div>\n",
       "<style scoped>\n",
       "    .dataframe tbody tr th:only-of-type {\n",
       "        vertical-align: middle;\n",
       "    }\n",
       "\n",
       "    .dataframe tbody tr th {\n",
       "        vertical-align: top;\n",
       "    }\n",
       "\n",
       "    .dataframe thead th {\n",
       "        text-align: right;\n",
       "    }\n",
       "</style>\n",
       "<table border=\"1\" class=\"dataframe\">\n",
       "  <thead>\n",
       "    <tr style=\"text-align: right;\">\n",
       "      <th></th>\n",
       "      <th>rank</th>\n",
       "      <th>game_id</th>\n",
       "      <th>min_players</th>\n",
       "      <th>max_players</th>\n",
       "      <th>avg_time</th>\n",
       "      <th>min_time</th>\n",
       "      <th>max_time</th>\n",
       "      <th>year</th>\n",
       "      <th>avg_rating</th>\n",
       "      <th>geek_rating</th>\n",
       "      <th>num_votes</th>\n",
       "      <th>age</th>\n",
       "      <th>owned</th>\n",
       "      <th>weight</th>\n",
       "    </tr>\n",
       "  </thead>\n",
       "  <tbody>\n",
       "    <tr>\n",
       "      <th>count</th>\n",
       "      <td>4999.000000</td>\n",
       "      <td>4999.000000</td>\n",
       "      <td>4999.000000</td>\n",
       "      <td>4999.000000</td>\n",
       "      <td>4999.000000</td>\n",
       "      <td>4999.000000</td>\n",
       "      <td>4999.000000</td>\n",
       "      <td>4999.000000</td>\n",
       "      <td>4999.000000</td>\n",
       "      <td>4999.000000</td>\n",
       "      <td>4999.000000</td>\n",
       "      <td>4999.000000</td>\n",
       "      <td>4999.000000</td>\n",
       "      <td>4999.000000</td>\n",
       "    </tr>\n",
       "    <tr>\n",
       "      <th>mean</th>\n",
       "      <td>2500.000000</td>\n",
       "      <td>89130.612523</td>\n",
       "      <td>2.019404</td>\n",
       "      <td>5.188038</td>\n",
       "      <td>116.193639</td>\n",
       "      <td>83.852971</td>\n",
       "      <td>115.717544</td>\n",
       "      <td>1997.739948</td>\n",
       "      <td>6.969392</td>\n",
       "      <td>6.088576</td>\n",
       "      <td>2013.458292</td>\n",
       "      <td>10.407281</td>\n",
       "      <td>3063.863573</td>\n",
       "      <td>2.343633</td>\n",
       "    </tr>\n",
       "    <tr>\n",
       "      <th>std</th>\n",
       "      <td>1443.231328</td>\n",
       "      <td>77203.598778</td>\n",
       "      <td>0.685282</td>\n",
       "      <td>7.801038</td>\n",
       "      <td>513.710907</td>\n",
       "      <td>317.251581</td>\n",
       "      <td>513.768868</td>\n",
       "      <td>143.192968</td>\n",
       "      <td>0.562825</td>\n",
       "      <td>0.483212</td>\n",
       "      <td>4750.834210</td>\n",
       "      <td>3.237645</td>\n",
       "      <td>6482.861008</td>\n",
       "      <td>0.808694</td>\n",
       "    </tr>\n",
       "    <tr>\n",
       "      <th>min</th>\n",
       "      <td>1.000000</td>\n",
       "      <td>1.000000</td>\n",
       "      <td>0.000000</td>\n",
       "      <td>0.000000</td>\n",
       "      <td>0.000000</td>\n",
       "      <td>0.000000</td>\n",
       "      <td>0.000000</td>\n",
       "      <td>-3000.000000</td>\n",
       "      <td>5.777730</td>\n",
       "      <td>5.640240</td>\n",
       "      <td>62.000000</td>\n",
       "      <td>0.000000</td>\n",
       "      <td>49.000000</td>\n",
       "      <td>0.000000</td>\n",
       "    </tr>\n",
       "    <tr>\n",
       "      <th>25%</th>\n",
       "      <td>1250.500000</td>\n",
       "      <td>11169.000000</td>\n",
       "      <td>2.000000</td>\n",
       "      <td>4.000000</td>\n",
       "      <td>30.000000</td>\n",
       "      <td>30.000000</td>\n",
       "      <td>30.000000</td>\n",
       "      <td>2003.000000</td>\n",
       "      <td>6.540560</td>\n",
       "      <td>5.726970</td>\n",
       "      <td>285.000000</td>\n",
       "      <td>8.000000</td>\n",
       "      <td>626.000000</td>\n",
       "      <td>1.735300</td>\n",
       "    </tr>\n",
       "    <tr>\n",
       "      <th>50%</th>\n",
       "      <td>2500.000000</td>\n",
       "      <td>71906.000000</td>\n",
       "      <td>2.000000</td>\n",
       "      <td>4.000000</td>\n",
       "      <td>60.000000</td>\n",
       "      <td>45.000000</td>\n",
       "      <td>60.000000</td>\n",
       "      <td>2010.000000</td>\n",
       "      <td>6.907890</td>\n",
       "      <td>5.905240</td>\n",
       "      <td>625.000000</td>\n",
       "      <td>11.000000</td>\n",
       "      <td>1204.000000</td>\n",
       "      <td>2.285700</td>\n",
       "    </tr>\n",
       "    <tr>\n",
       "      <th>75%</th>\n",
       "      <td>3749.500000</td>\n",
       "      <td>160456.500000</td>\n",
       "      <td>2.000000</td>\n",
       "      <td>6.000000</td>\n",
       "      <td>120.000000</td>\n",
       "      <td>90.000000</td>\n",
       "      <td>120.000000</td>\n",
       "      <td>2015.000000</td>\n",
       "      <td>7.339040</td>\n",
       "      <td>6.303585</td>\n",
       "      <td>1634.500000</td>\n",
       "      <td>12.000000</td>\n",
       "      <td>2751.500000</td>\n",
       "      <td>2.888900</td>\n",
       "    </tr>\n",
       "    <tr>\n",
       "      <th>max</th>\n",
       "      <td>4999.000000</td>\n",
       "      <td>248949.000000</td>\n",
       "      <td>8.000000</td>\n",
       "      <td>200.000000</td>\n",
       "      <td>22500.000000</td>\n",
       "      <td>17280.000000</td>\n",
       "      <td>22500.000000</td>\n",
       "      <td>2018.000000</td>\n",
       "      <td>9.159150</td>\n",
       "      <td>8.618580</td>\n",
       "      <td>77423.000000</td>\n",
       "      <td>42.000000</td>\n",
       "      <td>111807.000000</td>\n",
       "      <td>4.904800</td>\n",
       "    </tr>\n",
       "  </tbody>\n",
       "</table>\n",
       "</div>"
      ],
      "text/plain": [
       "              rank        game_id  min_players  max_players      avg_time  \\\n",
       "count  4999.000000    4999.000000  4999.000000  4999.000000   4999.000000   \n",
       "mean   2500.000000   89130.612523     2.019404     5.188038    116.193639   \n",
       "std    1443.231328   77203.598778     0.685282     7.801038    513.710907   \n",
       "min       1.000000       1.000000     0.000000     0.000000      0.000000   \n",
       "25%    1250.500000   11169.000000     2.000000     4.000000     30.000000   \n",
       "50%    2500.000000   71906.000000     2.000000     4.000000     60.000000   \n",
       "75%    3749.500000  160456.500000     2.000000     6.000000    120.000000   \n",
       "max    4999.000000  248949.000000     8.000000   200.000000  22500.000000   \n",
       "\n",
       "           min_time      max_time         year   avg_rating  geek_rating  \\\n",
       "count   4999.000000   4999.000000  4999.000000  4999.000000  4999.000000   \n",
       "mean      83.852971    115.717544  1997.739948     6.969392     6.088576   \n",
       "std      317.251581    513.768868   143.192968     0.562825     0.483212   \n",
       "min        0.000000      0.000000 -3000.000000     5.777730     5.640240   \n",
       "25%       30.000000     30.000000  2003.000000     6.540560     5.726970   \n",
       "50%       45.000000     60.000000  2010.000000     6.907890     5.905240   \n",
       "75%       90.000000    120.000000  2015.000000     7.339040     6.303585   \n",
       "max    17280.000000  22500.000000  2018.000000     9.159150     8.618580   \n",
       "\n",
       "          num_votes          age          owned       weight  \n",
       "count   4999.000000  4999.000000    4999.000000  4999.000000  \n",
       "mean    2013.458292    10.407281    3063.863573     2.343633  \n",
       "std     4750.834210     3.237645    6482.861008     0.808694  \n",
       "min       62.000000     0.000000      49.000000     0.000000  \n",
       "25%      285.000000     8.000000     626.000000     1.735300  \n",
       "50%      625.000000    11.000000    1204.000000     2.285700  \n",
       "75%     1634.500000    12.000000    2751.500000     2.888900  \n",
       "max    77423.000000    42.000000  111807.000000     4.904800  "
      ]
     },
     "execution_count": 4,
     "metadata": {},
     "output_type": "execute_result"
    }
   ],
   "source": [
    "df.describe()"
   ]
  },
  {
   "cell_type": "code",
   "execution_count": 5,
   "metadata": {
    "scrolled": false
   },
   "outputs": [
    {
     "name": "stdout",
     "output_type": "stream",
     "text": [
      "<class 'pandas.core.frame.DataFrame'>\n",
      "RangeIndex: 4999 entries, 0 to 4998\n",
      "Data columns (total 20 columns):\n",
      "rank           4999 non-null int64\n",
      "bgg_url        4999 non-null object\n",
      "game_id        4999 non-null int64\n",
      "names          4999 non-null object\n",
      "min_players    4999 non-null int64\n",
      "max_players    4999 non-null int64\n",
      "avg_time       4999 non-null int64\n",
      "min_time       4999 non-null int64\n",
      "max_time       4999 non-null int64\n",
      "year           4999 non-null int64\n",
      "avg_rating     4999 non-null float64\n",
      "geek_rating    4999 non-null float64\n",
      "num_votes      4999 non-null int64\n",
      "image_url      4998 non-null object\n",
      "age            4999 non-null int64\n",
      "mechanic       4999 non-null object\n",
      "owned          4999 non-null int64\n",
      "category       4999 non-null object\n",
      "designer       4999 non-null object\n",
      "weight         4999 non-null float64\n",
      "dtypes: float64(3), int64(11), object(6)\n",
      "memory usage: 664.0+ KB\n"
     ]
    }
   ],
   "source": [
    "df.info()"
   ]
  },
  {
   "cell_type": "markdown",
   "metadata": {},
   "source": [
    "The board game data has 20 columns and 5000 rows.  Each column is a charateristic of a board game and each row is a unique board game.\n",
    "\n",
    "There seems to be three types of columns qualitative (mechanic, category, designer), quantitative (min_players, max)player, avg_time, min_time, max_time, year, avg_rating, geek_rating, num_votes, age, owned, weight) and unique (rank, bgg_url, game_id, names, image_url)\n",
    "\n",
    "The columns and what data the contain are:\n",
    "\n",
    "rank: each game is ranked by popularity from 1 to 4999.  \n",
    "\n",
    "bgg_url: url of game on BBG\n",
    "\n",
    "game_id: each game is given a unique id.\n",
    "\n",
    "names: name of board game\n",
    "\n",
    "min_players:  minimum number of players\n",
    "\n",
    "max_player: maximum number of players\n",
    "\n",
    "avg_time: average time the game takes to play\n",
    "\n",
    "min_time: minimum time to play game\n",
    "\n",
    "max_time: maximum time to play game\n",
    "\n",
    "year: year board game was released\n",
    "\n",
    "avg_rating: mean of all board game user ratings\n",
    "\n",
    "geek_rating: BGG rating based on avg_rating but altered with secret BBG Stats\n",
    "\n",
    "num_votes: number of votes by users\n",
    "\n",
    "image_url: url to picture of board game cover\n",
    "\n",
    "age: recommended starting age\n",
    "\n",
    "mechanic: list of board game mechanics \n",
    "\n",
    "owned: number of users who stated they own game\n",
    "\n",
    "category: list of themes or categories of the board game\n",
    "\n",
    "designer: list of designers\n",
    "\n",
    "weight: average rating of how hard a game is to understand given by users"
   ]
  },
  {
   "cell_type": "markdown",
   "metadata": {},
   "source": [
    "#### Clean Data"
   ]
  },
  {
   "cell_type": "code",
   "execution_count": 6,
   "metadata": {},
   "outputs": [
    {
     "data": {
      "text/html": [
       "<div>\n",
       "<style scoped>\n",
       "    .dataframe tbody tr th:only-of-type {\n",
       "        vertical-align: middle;\n",
       "    }\n",
       "\n",
       "    .dataframe tbody tr th {\n",
       "        vertical-align: top;\n",
       "    }\n",
       "\n",
       "    .dataframe thead th {\n",
       "        text-align: right;\n",
       "    }\n",
       "</style>\n",
       "<table border=\"1\" class=\"dataframe\">\n",
       "  <thead>\n",
       "    <tr style=\"text-align: right;\">\n",
       "      <th></th>\n",
       "      <th>rank</th>\n",
       "      <th>bgg_url</th>\n",
       "      <th>names</th>\n",
       "      <th>min_players</th>\n",
       "      <th>max_players</th>\n",
       "      <th>avg_time</th>\n",
       "      <th>min_time</th>\n",
       "      <th>max_time</th>\n",
       "      <th>year</th>\n",
       "      <th>avg_rating</th>\n",
       "      <th>geek_rating</th>\n",
       "      <th>num_votes</th>\n",
       "      <th>image_url</th>\n",
       "      <th>age</th>\n",
       "      <th>mechanic</th>\n",
       "      <th>owned</th>\n",
       "      <th>category</th>\n",
       "      <th>designer</th>\n",
       "      <th>weight</th>\n",
       "    </tr>\n",
       "    <tr>\n",
       "      <th>game_id</th>\n",
       "      <th></th>\n",
       "      <th></th>\n",
       "      <th></th>\n",
       "      <th></th>\n",
       "      <th></th>\n",
       "      <th></th>\n",
       "      <th></th>\n",
       "      <th></th>\n",
       "      <th></th>\n",
       "      <th></th>\n",
       "      <th></th>\n",
       "      <th></th>\n",
       "      <th></th>\n",
       "      <th></th>\n",
       "      <th></th>\n",
       "      <th></th>\n",
       "      <th></th>\n",
       "      <th></th>\n",
       "      <th></th>\n",
       "    </tr>\n",
       "  </thead>\n",
       "  <tbody>\n",
       "    <tr>\n",
       "      <th>174430</th>\n",
       "      <td>1</td>\n",
       "      <td>https://boardgamegeek.com/boardgame/174430/glo...</td>\n",
       "      <td>Gloomhaven</td>\n",
       "      <td>1</td>\n",
       "      <td>4</td>\n",
       "      <td>120</td>\n",
       "      <td>60</td>\n",
       "      <td>120</td>\n",
       "      <td>2017</td>\n",
       "      <td>8.98893</td>\n",
       "      <td>8.61858</td>\n",
       "      <td>15376</td>\n",
       "      <td>https://cf.geekdo-images.com/original/img/lDN3...</td>\n",
       "      <td>12</td>\n",
       "      <td>Action / Movement Programming, Co-operative Pl...</td>\n",
       "      <td>25928</td>\n",
       "      <td>Adventure, Exploration, Fantasy, Fighting, Min...</td>\n",
       "      <td>Isaac Childres</td>\n",
       "      <td>3.7543</td>\n",
       "    </tr>\n",
       "    <tr>\n",
       "      <th>161936</th>\n",
       "      <td>2</td>\n",
       "      <td>https://boardgamegeek.com/boardgame/161936/pan...</td>\n",
       "      <td>Pandemic Legacy: Season 1</td>\n",
       "      <td>2</td>\n",
       "      <td>4</td>\n",
       "      <td>60</td>\n",
       "      <td>60</td>\n",
       "      <td>60</td>\n",
       "      <td>2015</td>\n",
       "      <td>8.66140</td>\n",
       "      <td>8.50163</td>\n",
       "      <td>26063</td>\n",
       "      <td>https://cf.geekdo-images.com/original/img/P_Sw...</td>\n",
       "      <td>13</td>\n",
       "      <td>Action Point Allowance System, Co-operative Pl...</td>\n",
       "      <td>41605</td>\n",
       "      <td>Environmental, Medical</td>\n",
       "      <td>Rob Daviau, Matt Leacock</td>\n",
       "      <td>2.8210</td>\n",
       "    </tr>\n",
       "    <tr>\n",
       "      <th>182028</th>\n",
       "      <td>3</td>\n",
       "      <td>https://boardgamegeek.com/boardgame/182028/thr...</td>\n",
       "      <td>Through the Ages: A New Story of Civilization</td>\n",
       "      <td>2</td>\n",
       "      <td>4</td>\n",
       "      <td>240</td>\n",
       "      <td>180</td>\n",
       "      <td>240</td>\n",
       "      <td>2015</td>\n",
       "      <td>8.60673</td>\n",
       "      <td>8.30183</td>\n",
       "      <td>12352</td>\n",
       "      <td>https://cf.geekdo-images.com/original/img/1d2h...</td>\n",
       "      <td>14</td>\n",
       "      <td>Action Point Allowance System, Auction/Bidding...</td>\n",
       "      <td>15848</td>\n",
       "      <td>Card Game, Civilization, Economic</td>\n",
       "      <td>Vlaada Chvátil</td>\n",
       "      <td>4.3678</td>\n",
       "    </tr>\n",
       "    <tr>\n",
       "      <th>167791</th>\n",
       "      <td>4</td>\n",
       "      <td>https://boardgamegeek.com/boardgame/167791/ter...</td>\n",
       "      <td>Terraforming Mars</td>\n",
       "      <td>1</td>\n",
       "      <td>5</td>\n",
       "      <td>120</td>\n",
       "      <td>120</td>\n",
       "      <td>120</td>\n",
       "      <td>2016</td>\n",
       "      <td>8.38461</td>\n",
       "      <td>8.19914</td>\n",
       "      <td>26004</td>\n",
       "      <td>https://cf.geekdo-images.com/original/img/o8z_...</td>\n",
       "      <td>12</td>\n",
       "      <td>Card Drafting, Hand Management, Set Collection...</td>\n",
       "      <td>33340</td>\n",
       "      <td>Economic, Environmental, Industry / Manufactur...</td>\n",
       "      <td>Jacob Fryxelius</td>\n",
       "      <td>3.2456</td>\n",
       "    </tr>\n",
       "    <tr>\n",
       "      <th>12333</th>\n",
       "      <td>5</td>\n",
       "      <td>https://boardgamegeek.com/boardgame/12333/twil...</td>\n",
       "      <td>Twilight Struggle</td>\n",
       "      <td>2</td>\n",
       "      <td>2</td>\n",
       "      <td>180</td>\n",
       "      <td>120</td>\n",
       "      <td>180</td>\n",
       "      <td>2005</td>\n",
       "      <td>8.33954</td>\n",
       "      <td>8.19787</td>\n",
       "      <td>31301</td>\n",
       "      <td>https://cf.geekdo-images.com/original/img/ZPnn...</td>\n",
       "      <td>13</td>\n",
       "      <td>Area Control / Area Influence, Campaign / Batt...</td>\n",
       "      <td>42952</td>\n",
       "      <td>Modern Warfare, Political, Wargame</td>\n",
       "      <td>Ananda Gupta, Jason Matthews</td>\n",
       "      <td>3.5518</td>\n",
       "    </tr>\n",
       "  </tbody>\n",
       "</table>\n",
       "</div>"
      ],
      "text/plain": [
       "         rank                                            bgg_url  \\\n",
       "game_id                                                            \n",
       "174430      1  https://boardgamegeek.com/boardgame/174430/glo...   \n",
       "161936      2  https://boardgamegeek.com/boardgame/161936/pan...   \n",
       "182028      3  https://boardgamegeek.com/boardgame/182028/thr...   \n",
       "167791      4  https://boardgamegeek.com/boardgame/167791/ter...   \n",
       "12333       5  https://boardgamegeek.com/boardgame/12333/twil...   \n",
       "\n",
       "                                                 names  min_players  \\\n",
       "game_id                                                               \n",
       "174430                                      Gloomhaven            1   \n",
       "161936                       Pandemic Legacy: Season 1            2   \n",
       "182028   Through the Ages: A New Story of Civilization            2   \n",
       "167791                               Terraforming Mars            1   \n",
       "12333                                Twilight Struggle            2   \n",
       "\n",
       "         max_players  avg_time  min_time  max_time  year  avg_rating  \\\n",
       "game_id                                                                \n",
       "174430             4       120        60       120  2017     8.98893   \n",
       "161936             4        60        60        60  2015     8.66140   \n",
       "182028             4       240       180       240  2015     8.60673   \n",
       "167791             5       120       120       120  2016     8.38461   \n",
       "12333              2       180       120       180  2005     8.33954   \n",
       "\n",
       "         geek_rating  num_votes  \\\n",
       "game_id                           \n",
       "174430       8.61858      15376   \n",
       "161936       8.50163      26063   \n",
       "182028       8.30183      12352   \n",
       "167791       8.19914      26004   \n",
       "12333        8.19787      31301   \n",
       "\n",
       "                                                 image_url  age  \\\n",
       "game_id                                                           \n",
       "174430   https://cf.geekdo-images.com/original/img/lDN3...   12   \n",
       "161936   https://cf.geekdo-images.com/original/img/P_Sw...   13   \n",
       "182028   https://cf.geekdo-images.com/original/img/1d2h...   14   \n",
       "167791   https://cf.geekdo-images.com/original/img/o8z_...   12   \n",
       "12333    https://cf.geekdo-images.com/original/img/ZPnn...   13   \n",
       "\n",
       "                                                  mechanic  owned  \\\n",
       "game_id                                                             \n",
       "174430   Action / Movement Programming, Co-operative Pl...  25928   \n",
       "161936   Action Point Allowance System, Co-operative Pl...  41605   \n",
       "182028   Action Point Allowance System, Auction/Bidding...  15848   \n",
       "167791   Card Drafting, Hand Management, Set Collection...  33340   \n",
       "12333    Area Control / Area Influence, Campaign / Batt...  42952   \n",
       "\n",
       "                                                  category  \\\n",
       "game_id                                                      \n",
       "174430   Adventure, Exploration, Fantasy, Fighting, Min...   \n",
       "161936                              Environmental, Medical   \n",
       "182028                   Card Game, Civilization, Economic   \n",
       "167791   Economic, Environmental, Industry / Manufactur...   \n",
       "12333                   Modern Warfare, Political, Wargame   \n",
       "\n",
       "                             designer  weight  \n",
       "game_id                                        \n",
       "174430                 Isaac Childres  3.7543  \n",
       "161936       Rob Daviau, Matt Leacock  2.8210  \n",
       "182028                 Vlaada Chvátil  4.3678  \n",
       "167791                Jacob Fryxelius  3.2456  \n",
       "12333    Ananda Gupta, Jason Matthews  3.5518  "
      ]
     },
     "execution_count": 6,
     "metadata": {},
     "output_type": "execute_result"
    }
   ],
   "source": [
    "df_clean = df.set_index('game_id')\n",
    "df_clean.head(5)"
   ]
  },
  {
   "cell_type": "markdown",
   "metadata": {},
   "source": [
    "Setting the game_id as the index because each is unique to the game."
   ]
  },
  {
   "cell_type": "code",
   "execution_count": 7,
   "metadata": {},
   "outputs": [],
   "source": [
    "df_clean = df_clean.drop(['bgg_url', 'image_url', 'rank'], axis=1)"
   ]
  },
  {
   "cell_type": "markdown",
   "metadata": {},
   "source": [
    "Some of the columns will not be useful in the data so they were removed.  They are listed as the following:\n",
    "\n",
    "1. bgg_url - url to the board game on BBG.\n",
    "2. image_url - url to a picture of the board game on BBG.\n",
    "3. rank - coresponds to geek_rating\n"
   ]
  },
  {
   "cell_type": "code",
   "execution_count": 9,
   "metadata": {},
   "outputs": [
    {
     "data": {
      "text/plain": [
       "127"
      ]
     },
     "execution_count": 9,
     "metadata": {},
     "output_type": "execute_result"
    }
   ],
   "source": [
    "missing_values = df_clean[(df_clean['min_players'] < 1) | (df_clean['max_players'] < 1) | (df_clean['avg_time'] < 1) | (df_clean['min_time'] < 1) | (df_clean['max_time'] < 1)]\n",
    "missing_values.shape[0]"
   ]
  },
  {
   "cell_type": "code",
   "execution_count": 10,
   "metadata": {},
   "outputs": [
    {
     "data": {
      "text/plain": [
       "4872"
      ]
     },
     "execution_count": 10,
     "metadata": {},
     "output_type": "execute_result"
    }
   ],
   "source": [
    "df_clean = df_clean[(df_clean['min_players'] >= 1) & (df_clean['max_players'] >= 1) & (df_clean['avg_time'] >= 1) & (df_clean['min_time'] >= 1) & (df_clean['max_time'] >= 1)]\n",
    "df_clean.shape[0]"
   ]
  },
  {
   "cell_type": "markdown",
   "metadata": {},
   "source": [
    "For columns min_players, max_players, avg_time, min_time, max_time having a 0 as a value doen't make sense.  A game has to have at least one player and time has to be greater than 0 to be played.\n",
    "\n",
    "They are only a few games that have these missing values so they will be removed."
   ]
  },
  {
   "cell_type": "markdown",
   "metadata": {},
   "source": [
    "#### Player Count"
   ]
  },
  {
   "cell_type": "code",
   "execution_count": 11,
   "metadata": {
    "scrolled": false
   },
   "outputs": [
    {
     "data": {
      "image/png": "[encoded data removed]",
      "text/plain": [
       "<Figure size 432x288 with 1 Axes>"
      ]
     },
     "metadata": {
      "needs_background": "light"
     },
     "output_type": "display_data"
    }
   ],
   "source": [
    "sns.countplot(df_clean['max_players'])\n",
    "plt.xlabel('Max Players')\n",
    "plt.ylabel('Count')\n",
    "plt.title('Maximum Players');"
   ]
  },
  {
   "cell_type": "code",
   "execution_count": 12,
   "metadata": {},
   "outputs": [
    {
     "data": {
      "text/plain": [
       "120"
      ]
     },
     "execution_count": 12,
     "metadata": {},
     "output_type": "execute_result"
    }
   ],
   "source": [
    "df_clean[df_clean['max_players'] > 10]['max_players'].count()"
   ]
  },
  {
   "cell_type": "code",
   "execution_count": 13,
   "metadata": {},
   "outputs": [
    {
     "data": {
      "text/plain": [
       "4752"
      ]
     },
     "execution_count": 13,
     "metadata": {},
     "output_type": "execute_result"
    }
   ],
   "source": [
    "df_clean = df_clean[(df_clean['max_players'] < 11) | (df_clean['min_players'] > 10)]\n",
    "df_clean.shape[0]"
   ]
  },
  {
   "cell_type": "markdown",
   "metadata": {},
   "source": [
    "Most games have a maximum player count of 4 with 2, 5, and 6 being the next most common.  In the graph there seems to be a a significant amount of games at 99 players.\n",
    "\n",
    "There are only 120 games that have a max of 11 players or more and most times you will not have more than 10 people at a board game party.  If I assume that I will also remove any board games that have a minimum player count of more than 10 players.  I will remove those."
   ]
  },
  {
   "cell_type": "markdown",
   "metadata": {},
   "source": [
    "#### Game Time"
   ]
  },
  {
   "cell_type": "code",
   "execution_count": 14,
   "metadata": {
    "scrolled": true
   },
   "outputs": [
    {
     "data": {
      "image/png": "[encoded data removed]",
      "text/plain": [
       "<Figure size 432x288 with 1 Axes>"
      ]
     },
     "metadata": {
      "needs_background": "light"
     },
     "output_type": "display_data"
    }
   ],
   "source": [
    "plt.hist(df_clean['max_time'])\n",
    "plt.xlabel('Max Time')\n",
    "plt.ylabel('Count')\n",
    "plt.title('Maximum Playing Time');"
   ]
  },
  {
   "cell_type": "code",
   "execution_count": 15,
   "metadata": {},
   "outputs": [
    {
     "data": {
      "text/plain": [
       "4698"
      ]
     },
     "execution_count": 15,
     "metadata": {},
     "output_type": "execute_result"
    }
   ],
   "source": [
    "df_clean = df_clean[df_clean['max_time'] <= 480]\n",
    "df_clean.shape[0]"
   ]
  },
  {
   "cell_type": "markdown",
   "metadata": {},
   "source": [
    "We see that there are some games that have games that will last longer than there is time in a day.  There are 1440 minutes in a 24 hour day.  These games are probably campaign style games that can be left set up and come back to. Most people can't or won't devote that much time to them.  \n",
    "\n",
    "I will only be looking at games that are less then 8 hours to play.  That is a full day of gaming. "
   ]
  },
  {
   "cell_type": "code",
   "execution_count": 18,
   "metadata": {
    "scrolled": false
   },
   "outputs": [
    {
     "ename": "KeyError",
     "evalue": "'avg_time'",
     "output_type": "error",
     "traceback": [
      "\u001b[1;31m---------------------------------------------------------------------------\u001b[0m",
      "\u001b[1;31mKeyError\u001b[0m                                  Traceback (most recent call last)",
      "\u001b[1;32mC:\\ProgramData\\Anaconda3\\lib\\site-packages\\pandas\\core\\indexes\\base.py\u001b[0m in \u001b[0;36mget_loc\u001b[1;34m(self, key, method, tolerance)\u001b[0m\n\u001b[0;32m   2656\u001b[0m             \u001b[1;32mtry\u001b[0m\u001b[1;33m:\u001b[0m\u001b[1;33m\u001b[0m\u001b[1;33m\u001b[0m\u001b[0m\n\u001b[1;32m-> 2657\u001b[1;33m                 \u001b[1;32mreturn\u001b[0m \u001b[0mself\u001b[0m\u001b[1;33m.\u001b[0m\u001b[0m_engine\u001b[0m\u001b[1;33m.\u001b[0m\u001b[0mget_loc\u001b[0m\u001b[1;33m(\u001b[0m\u001b[0mkey\u001b[0m\u001b[1;33m)\u001b[0m\u001b[1;33m\u001b[0m\u001b[1;33m\u001b[0m\u001b[0m\n\u001b[0m\u001b[0;32m   2658\u001b[0m             \u001b[1;32mexcept\u001b[0m \u001b[0mKeyError\u001b[0m\u001b[1;33m:\u001b[0m\u001b[1;33m\u001b[0m\u001b[1;33m\u001b[0m\u001b[0m\n",
      "\u001b[1;32mpandas/_libs/index.pyx\u001b[0m in \u001b[0;36mpandas._libs.index.IndexEngine.get_loc\u001b[1;34m()\u001b[0m\n",
      "\u001b[1;32mpandas/_libs/index.pyx\u001b[0m in \u001b[0;36mpandas._libs.index.IndexEngine.get_loc\u001b[1;34m()\u001b[0m\n",
      "\u001b[1;32mpandas/_libs/hashtable_class_helper.pxi\u001b[0m in \u001b[0;36mpandas._libs.hashtable.PyObjectHashTable.get_item\u001b[1;34m()\u001b[0m\n",
      "\u001b[1;32mpandas/_libs/hashtable_class_helper.pxi\u001b[0m in \u001b[0;36mpandas._libs.hashtable.PyObjectHashTable.get_item\u001b[1;34m()\u001b[0m\n",
      "\u001b[1;31mKeyError\u001b[0m: 'avg_time'",
      "\nDuring handling of the above exception, another exception occurred:\n",
      "\u001b[1;31mKeyError\u001b[0m                                  Traceback (most recent call last)",
      "\u001b[1;32m<ipython-input-18-c3bfab337a1e>\u001b[0m in \u001b[0;36m<module>\u001b[1;34m\u001b[0m\n\u001b[0;32m      1\u001b[0m \u001b[0mfig\u001b[0m\u001b[1;33m,\u001b[0m \u001b[0maxes\u001b[0m \u001b[1;33m=\u001b[0m \u001b[0mplt\u001b[0m\u001b[1;33m.\u001b[0m\u001b[0msubplots\u001b[0m\u001b[1;33m(\u001b[0m\u001b[1;36m1\u001b[0m\u001b[1;33m,\u001b[0m\u001b[1;36m2\u001b[0m\u001b[1;33m,\u001b[0m\u001b[0mfigsize\u001b[0m\u001b[1;33m=\u001b[0m\u001b[1;33m(\u001b[0m\u001b[1;36m16\u001b[0m\u001b[1;33m,\u001b[0m\u001b[1;36m3\u001b[0m\u001b[1;33m)\u001b[0m\u001b[1;33m)\u001b[0m\u001b[1;33m\u001b[0m\u001b[1;33m\u001b[0m\u001b[0m\n\u001b[0;32m      2\u001b[0m \u001b[0mdf_clean\u001b[0m\u001b[1;33m[\u001b[0m\u001b[1;34m'max_time'\u001b[0m\u001b[1;33m]\u001b[0m\u001b[1;33m.\u001b[0m\u001b[0mplot\u001b[0m\u001b[1;33m.\u001b[0m\u001b[0mhist\u001b[0m\u001b[1;33m(\u001b[0m\u001b[0max\u001b[0m\u001b[1;33m=\u001b[0m\u001b[0maxes\u001b[0m\u001b[1;33m[\u001b[0m\u001b[1;36m0\u001b[0m\u001b[1;33m]\u001b[0m\u001b[1;33m,\u001b[0m \u001b[0mtitle\u001b[0m\u001b[1;33m=\u001b[0m\u001b[1;34m'Maximum Playing Time'\u001b[0m\u001b[1;33m)\u001b[0m\u001b[1;33m\u001b[0m\u001b[1;33m\u001b[0m\u001b[0m\n\u001b[1;32m----> 3\u001b[1;33m \u001b[0mdf_clean\u001b[0m\u001b[1;33m[\u001b[0m\u001b[1;34m'avg_time'\u001b[0m\u001b[1;33m]\u001b[0m\u001b[1;33m.\u001b[0m\u001b[0mplot\u001b[0m\u001b[1;33m.\u001b[0m\u001b[0mhist\u001b[0m\u001b[1;33m(\u001b[0m\u001b[0max\u001b[0m\u001b[1;33m=\u001b[0m\u001b[0maxes\u001b[0m\u001b[1;33m[\u001b[0m\u001b[1;36m1\u001b[0m\u001b[1;33m]\u001b[0m\u001b[1;33m,\u001b[0m \u001b[0mtitle\u001b[0m\u001b[1;33m=\u001b[0m\u001b[1;34m'Avgerage Playing Time'\u001b[0m\u001b[1;33m)\u001b[0m\u001b[1;33m;\u001b[0m\u001b[1;33m\u001b[0m\u001b[1;33m\u001b[0m\u001b[0m\n\u001b[0m",
      "\u001b[1;32mC:\\ProgramData\\Anaconda3\\lib\\site-packages\\pandas\\core\\frame.py\u001b[0m in \u001b[0;36m__getitem__\u001b[1;34m(self, key)\u001b[0m\n\u001b[0;32m   2925\u001b[0m             \u001b[1;32mif\u001b[0m \u001b[0mself\u001b[0m\u001b[1;33m.\u001b[0m\u001b[0mcolumns\u001b[0m\u001b[1;33m.\u001b[0m\u001b[0mnlevels\u001b[0m \u001b[1;33m>\u001b[0m \u001b[1;36m1\u001b[0m\u001b[1;33m:\u001b[0m\u001b[1;33m\u001b[0m\u001b[1;33m\u001b[0m\u001b[0m\n\u001b[0;32m   2926\u001b[0m                 \u001b[1;32mreturn\u001b[0m \u001b[0mself\u001b[0m\u001b[1;33m.\u001b[0m\u001b[0m_getitem_multilevel\u001b[0m\u001b[1;33m(\u001b[0m\u001b[0mkey\u001b[0m\u001b[1;33m)\u001b[0m\u001b[1;33m\u001b[0m\u001b[1;33m\u001b[0m\u001b[0m\n\u001b[1;32m-> 2927\u001b[1;33m             \u001b[0mindexer\u001b[0m \u001b[1;33m=\u001b[0m \u001b[0mself\u001b[0m\u001b[1;33m.\u001b[0m\u001b[0mcolumns\u001b[0m\u001b[1;33m.\u001b[0m\u001b[0mget_loc\u001b[0m\u001b[1;33m(\u001b[0m\u001b[0mkey\u001b[0m\u001b[1;33m)\u001b[0m\u001b[1;33m\u001b[0m\u001b[1;33m\u001b[0m\u001b[0m\n\u001b[0m\u001b[0;32m   2928\u001b[0m             \u001b[1;32mif\u001b[0m \u001b[0mis_integer\u001b[0m\u001b[1;33m(\u001b[0m\u001b[0mindexer\u001b[0m\u001b[1;33m)\u001b[0m\u001b[1;33m:\u001b[0m\u001b[1;33m\u001b[0m\u001b[1;33m\u001b[0m\u001b[0m\n\u001b[0;32m   2929\u001b[0m                 \u001b[0mindexer\u001b[0m \u001b[1;33m=\u001b[0m \u001b[1;33m[\u001b[0m\u001b[0mindexer\u001b[0m\u001b[1;33m]\u001b[0m\u001b[1;33m\u001b[0m\u001b[1;33m\u001b[0m\u001b[0m\n",
      "\u001b[1;32mC:\\ProgramData\\Anaconda3\\lib\\site-packages\\pandas\\core\\indexes\\base.py\u001b[0m in \u001b[0;36mget_loc\u001b[1;34m(self, key, method, tolerance)\u001b[0m\n\u001b[0;32m   2657\u001b[0m                 \u001b[1;32mreturn\u001b[0m \u001b[0mself\u001b[0m\u001b[1;33m.\u001b[0m\u001b[0m_engine\u001b[0m\u001b[1;33m.\u001b[0m\u001b[0mget_loc\u001b[0m\u001b[1;33m(\u001b[0m\u001b[0mkey\u001b[0m\u001b[1;33m)\u001b[0m\u001b[1;33m\u001b[0m\u001b[1;33m\u001b[0m\u001b[0m\n\u001b[0;32m   2658\u001b[0m             \u001b[1;32mexcept\u001b[0m \u001b[0mKeyError\u001b[0m\u001b[1;33m:\u001b[0m\u001b[1;33m\u001b[0m\u001b[1;33m\u001b[0m\u001b[0m\n\u001b[1;32m-> 2659\u001b[1;33m                 \u001b[1;32mreturn\u001b[0m \u001b[0mself\u001b[0m\u001b[1;33m.\u001b[0m\u001b[0m_engine\u001b[0m\u001b[1;33m.\u001b[0m\u001b[0mget_loc\u001b[0m\u001b[1;33m(\u001b[0m\u001b[0mself\u001b[0m\u001b[1;33m.\u001b[0m\u001b[0m_maybe_cast_indexer\u001b[0m\u001b[1;33m(\u001b[0m\u001b[0mkey\u001b[0m\u001b[1;33m)\u001b[0m\u001b[1;33m)\u001b[0m\u001b[1;33m\u001b[0m\u001b[1;33m\u001b[0m\u001b[0m\n\u001b[0m\u001b[0;32m   2660\u001b[0m         \u001b[0mindexer\u001b[0m \u001b[1;33m=\u001b[0m \u001b[0mself\u001b[0m\u001b[1;33m.\u001b[0m\u001b[0mget_indexer\u001b[0m\u001b[1;33m(\u001b[0m\u001b[1;33m[\u001b[0m\u001b[0mkey\u001b[0m\u001b[1;33m]\u001b[0m\u001b[1;33m,\u001b[0m \u001b[0mmethod\u001b[0m\u001b[1;33m=\u001b[0m\u001b[0mmethod\u001b[0m\u001b[1;33m,\u001b[0m \u001b[0mtolerance\u001b[0m\u001b[1;33m=\u001b[0m\u001b[0mtolerance\u001b[0m\u001b[1;33m)\u001b[0m\u001b[1;33m\u001b[0m\u001b[1;33m\u001b[0m\u001b[0m\n\u001b[0;32m   2661\u001b[0m         \u001b[1;32mif\u001b[0m \u001b[0mindexer\u001b[0m\u001b[1;33m.\u001b[0m\u001b[0mndim\u001b[0m \u001b[1;33m>\u001b[0m \u001b[1;36m1\u001b[0m \u001b[1;32mor\u001b[0m \u001b[0mindexer\u001b[0m\u001b[1;33m.\u001b[0m\u001b[0msize\u001b[0m \u001b[1;33m>\u001b[0m \u001b[1;36m1\u001b[0m\u001b[1;33m:\u001b[0m\u001b[1;33m\u001b[0m\u001b[1;33m\u001b[0m\u001b[0m\n",
      "\u001b[1;32mpandas/_libs/index.pyx\u001b[0m in \u001b[0;36mpandas._libs.index.IndexEngine.get_loc\u001b[1;34m()\u001b[0m\n",
      "\u001b[1;32mpandas/_libs/index.pyx\u001b[0m in \u001b[0;36mpandas._libs.index.IndexEngine.get_loc\u001b[1;34m()\u001b[0m\n",
      "\u001b[1;32mpandas/_libs/hashtable_class_helper.pxi\u001b[0m in \u001b[0;36mpandas._libs.hashtable.PyObjectHashTable.get_item\u001b[1;34m()\u001b[0m\n",
      "\u001b[1;32mpandas/_libs/hashtable_class_helper.pxi\u001b[0m in \u001b[0;36mpandas._libs.hashtable.PyObjectHashTable.get_item\u001b[1;34m()\u001b[0m\n",
      "\u001b[1;31mKeyError\u001b[0m: 'avg_time'"
     ]
    },
    {
     "data": {
      "image/png": "[encoded data removed]",
      "text/plain": [
       "<Figure size 1152x216 with 2 Axes>"
      ]
     },
     "metadata": {
      "needs_background": "light"
     },
     "output_type": "display_data"
    }
   ],
   "source": [
    "fig, axes = plt.subplots(1,2,figsize=(16,3))\n",
    "df_clean['max_time'].plot.hist(ax=axes[0], title='Maximum Playing Time')\n",
    "df_clean['avg_time'].plot.hist(ax=axes[1], title='Avgerage Playing Time');"
   ]
  },
  {
   "cell_type": "code",
   "execution_count": 17,
   "metadata": {},
   "outputs": [],
   "source": [
    "df_clean = df_clean.drop(['avg_time'], axis=1)"
   ]
  },
  {
   "cell_type": "markdown",
   "metadata": {},
   "source": [
    "Looking at average time vs max time we see that they are very similar.  If they are it would be redundent to have both average time and max time.  We will keep max time."
   ]
  },
  {
   "cell_type": "markdown",
   "metadata": {},
   "source": [
    "#### Year"
   ]
  },
  {
   "cell_type": "code",
   "execution_count": 19,
   "metadata": {
    "scrolled": true
   },
   "outputs": [
    {
     "data": {
      "text/plain": [
       "<matplotlib.axes._subplots.AxesSubplot at 0x93fb230>"
      ]
     },
     "execution_count": 19,
     "metadata": {},
     "output_type": "execute_result"
    },
    {
     "data": {
      "image/png": "[encoded data removed]",
      "text/plain": [
       "<Figure size 1152x216 with 2 Axes>"
      ]
     },
     "metadata": {
      "needs_background": "light"
     },
     "output_type": "display_data"
    }
   ],
   "source": [
    "fig, axes = plt.subplots(1,2,figsize=(16,3))\n",
    "df_clean['year'].plot.hist(ax=axes[0], title='Year Histogram')\n",
    "df_clean['year'].plot.box(ax=axes[1], title='Year Box')"
   ]
  },
  {
   "cell_type": "code",
   "execution_count": 20,
   "metadata": {
    "scrolled": true
   },
   "outputs": [
    {
     "data": {
      "text/plain": [
       "count    4698.000000\n",
       "mean     1999.656024\n",
       "std       129.241046\n",
       "min     -3000.000000\n",
       "25%      2003.000000\n",
       "50%      2010.000000\n",
       "75%      2015.000000\n",
       "max      2018.000000\n",
       "Name: year, dtype: float64"
      ]
     },
     "execution_count": 20,
     "metadata": {},
     "output_type": "execute_result"
    }
   ],
   "source": [
    "df_clean['year'].describe()"
   ]
  },
  {
   "cell_type": "code",
   "execution_count": 21,
   "metadata": {},
   "outputs": [
    {
     "data": {
      "text/plain": [
       "1974.0"
      ]
     },
     "execution_count": 21,
     "metadata": {},
     "output_type": "execute_result"
    }
   ],
   "source": [
    "np.percentile(df_clean['year'], 2.5)"
   ]
  },
  {
   "cell_type": "code",
   "execution_count": 22,
   "metadata": {},
   "outputs": [
    {
     "data": {
      "text/plain": [
       "4582"
      ]
     },
     "execution_count": 22,
     "metadata": {},
     "output_type": "execute_result"
    }
   ],
   "source": [
    "df_clean = df_clean[df_clean['year'] >= 1974]\n",
    "df_clean.shape[0]"
   ]
  },
  {
   "cell_type": "markdown",
   "metadata": {},
   "source": [
    "Looking at the years board games were released we see that the 97.5% of board games were released after 1974.  I will be using that has the cut off for my analysis."
   ]
  },
  {
   "cell_type": "markdown",
   "metadata": {},
   "source": [
    "#### Save Data"
   ]
  },
  {
   "cell_type": "code",
   "execution_count": 23,
   "metadata": {},
   "outputs": [],
   "source": [
    "df_clean.to_csv(r'../data/bgg_clean.csv')"
   ]
  }
 ],
 "metadata": {
  "kernelspec": {
   "display_name": "Python 3",
   "language": "python",
   "name": "python3"
  },
  "language_info": {
   "codemirror_mode": {
    "name": "ipython",
    "version": 3
   },
   "file_extension": ".py",
   "mimetype": "text/x-python",
   "name": "python",
   "nbconvert_exporter": "python",
   "pygments_lexer": "ipython3",
   "version": "3.7.3"
  }
 },
 "nbformat": 4,
 "nbformat_minor": 2
}
