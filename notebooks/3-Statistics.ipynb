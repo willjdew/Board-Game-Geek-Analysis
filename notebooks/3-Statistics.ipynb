{
 "cells": [
  {
   "cell_type": "markdown",
   "metadata": {},
   "source": [
    "# BGG Stats\n",
    "\n",
    "There are a lot of different themes of board games.  Two of the most popular themes are Science Fiction and Fantasy.  The question that I have is if there is a statistical difference between the two themes average score or geek score."
   ]
  },
  {
   "cell_type": "markdown",
   "metadata": {},
   "source": [
    "### Import Data"
   ]
  },
  {
   "cell_type": "code",
   "execution_count": 1,
   "metadata": {},
   "outputs": [],
   "source": [
    "import pandas as pd\n",
    "import numpy as np\n",
    "import matplotlib.pyplot as plt\n",
    "%matplotlib inline\n",
    "import seaborn as sns\n",
    "\n",
    "import sys\n",
    "sys.path.append(\"../data/\")"
   ]
  },
  {
   "cell_type": "code",
   "execution_count": 2,
   "metadata": {},
   "outputs": [],
   "source": [
    "df = pd.read_csv('../data/bgg_2.csv')"
   ]
  },
  {
   "cell_type": "markdown",
   "metadata": {},
   "source": [
    "### Data Prep"
   ]
  },
  {
   "cell_type": "code",
   "execution_count": 3,
   "metadata": {},
   "outputs": [],
   "source": [
    "# Create series with fantasy or scifi games\n",
    "fantasy = df[['game_id', 'Fantasy']]\n",
    "scifi = df[['game_id', 'Science Fiction']]\n",
    "\n",
    "fantasy = fantasy[fantasy['Fantasy'] > 0]\n",
    "f_game_id = fantasy.game_id.values\n",
    "\n",
    "scifi = scifi[scifi['Science Fiction'] > 0]\n",
    "s_game_id = scifi.game_id.values\n",
    "\n",
    "df_fantasy = df.loc[df['game_id'].isin(f_game_id)]\n",
    "fantasy_avg = df_fantasy['avg_rating']\n",
    "fantasy_geek = df_fantasy['geek_rating']\n",
    "\n",
    "df_scifi = df.loc[df['game_id'].isin(s_game_id)]\n",
    "scifi_avg = df_scifi['avg_rating']\n",
    "scifi_geek = df_scifi['geek_rating']"
   ]
  },
  {
   "cell_type": "code",
   "execution_count": 4,
   "metadata": {
    "scrolled": true
   },
   "outputs": [
    {
     "name": "stdout",
     "output_type": "stream",
     "text": [
      "Avg rating for Fantasy game: 7.044\n",
      "Avg rating for SciFi game: 7.103\n",
      "Geek Avg rating for Fantasy game: 6.182\n",
      "Geek Avg rating for SciFi game: 6.198\n"
     ]
    }
   ],
   "source": [
    "print('Avg rating for Fantasy game: {:.3f}'.format(df_fantasy['avg_rating'].mean()))\n",
    "print('Avg rating for SciFi game: {:.3f}'.format(df_scifi['avg_rating'].mean()))\n",
    "\n",
    "print('Geek Avg rating for Fantasy game: {:.3f}'.format(df_fantasy['geek_rating'].mean()))\n",
    "print('Geek Avg rating for SciFi game: {:.3f}'.format(df_scifi['geek_rating'].mean()))"
   ]
  },
  {
   "cell_type": "markdown",
   "metadata": {},
   "source": [
    "We see that the avg_rating and geek_rating between Fantasy and SciFi board games are very close.  Using bootstrp replicates we will see if there is a statistical difference between the two.\n",
    "\n",
    "The null hypothesis is that there is no difference betweent the two themes of board games while hypothesis claims there is a difference.\n",
    "\n",
    "H0 = fantasy ratings = scifi ratings OR fantasy ratings - scifi ratings = 0\n",
    "\n",
    "Ha = fantasy ratings != scifi ratings"
   ]
  },
  {
   "cell_type": "markdown",
   "metadata": {},
   "source": [
    "### Bootstrap"
   ]
  },
  {
   "cell_type": "code",
   "execution_count": 5,
   "metadata": {},
   "outputs": [],
   "source": [
    "# DataQuest bootstrap functions\n",
    "def bootstrap_replicate_1d(data, func):\n",
    "    return func(np.random.choice(data, len(data)))\n",
    "\n",
    "def draw_bs_reps(data, func, size=1):\n",
    "    return np.array([bootstrap_replicate_1d(data, func) for _ in range(size)])"
   ]
  },
  {
   "cell_type": "code",
   "execution_count": 6,
   "metadata": {},
   "outputs": [],
   "source": [
    "# Bootstrap 10,000 replicates of the mean()\n",
    "bs_mean_fantasy_avg = draw_bs_reps(fantasy_avg, np.mean, 10000)\n",
    "bs_mean_fantasy_geek = draw_bs_reps(fantasy_geek, np.mean, 10000)\n",
    "\n",
    "bs_mean_scifi_avg = draw_bs_reps(scifi_avg, np.mean, 10000)\n",
    "bs_mean_scifi_geek = draw_bs_reps(scifi_geek, np.mean, 10000)"
   ]
  },
  {
   "cell_type": "code",
   "execution_count": 7,
   "metadata": {},
   "outputs": [],
   "source": [
    "# difference of means\n",
    "bs_mean_diff_avg = bs_mean_fantasy_avg - bs_mean_scifi_avg\n",
    "bs_mean_diff_geek = bs_mean_fantasy_geek - bs_mean_scifi_geek\n",
    "\n",
    "# 95% confidence interval\n",
    "conf_int_95_avg = np.percentile(bs_mean_diff_avg, [2.5, 97.5])\n",
    "conf_int_95_geek = np.percentile(bs_mean_diff_geek, [2.5, 97.5])"
   ]
  },
  {
   "cell_type": "code",
   "execution_count": 8,
   "metadata": {},
   "outputs": [
    {
     "data": {
      "image/png": "[encoded data removed]",
      "text/plain": [
       "<Figure size 432x288 with 1 Axes>"
      ]
     },
     "metadata": {
      "needs_background": "light"
     },
     "output_type": "display_data"
    }
   ],
   "source": [
    "plt.hist(bs_mean_diff_avg, density=True, bins=50)\n",
    "plt.axvline(x=conf_int_95_avg[0], color='r')\n",
    "plt.axvline(x=conf_int_95_avg[1], color='r')\n",
    "plt.xlabel('Fantasy/Science Fiction Average Rating Mean Difference')\n",
    "plt.ylabel('Frequency')\n",
    "plt.title('Mean Difference from 10,000 bootrap replicates')\n",
    "plt.savefig('../figures/bbg_3-fig_1.jpeg');"
   ]
  },
  {
   "cell_type": "code",
   "execution_count": 9,
   "metadata": {
    "scrolled": false
   },
   "outputs": [
    {
     "data": {
      "image/png": "[encoded data removed]",
      "text/plain": [
       "<Figure size 432x288 with 1 Axes>"
      ]
     },
     "metadata": {
      "needs_background": "light"
     },
     "output_type": "display_data"
    }
   ],
   "source": [
    "plt.hist(bs_mean_diff_geek, density=True, bins=50)\n",
    "plt.axvline(x=conf_int_95_geek[0], color='r')\n",
    "plt.axvline(x=conf_int_95_geek[1], color='r')\n",
    "plt.xlabel('Fantasy/Science Fiction Geek Rating Mean Difference')\n",
    "plt.ylabel('Frequency')\n",
    "plt.title('Mean Difference from 10,000 bootrap replicates')\n",
    "plt.savefig('../figures/bbg_3-fig_2.jpeg');"
   ]
  },
  {
   "cell_type": "markdown",
   "metadata": {},
   "source": [
    "### Conclution\n",
    "The above histograms is the mean difference in bootstap deviation of 10,000 samples.  The red lines mark the 95% confidenc interval.  We see that the 95% confidence interval does contain 0 on both avg_rating and geek_rating.  This means we can accept the null hypothesis that the avg_rating and geek_rating of the themes Fantasy and SciFi have no statitical difference."
   ]
  }
 ],
 "metadata": {
  "kernelspec": {
   "display_name": "Python 3",
   "language": "python",
   "name": "python3"
  },
  "language_info": {
   "codemirror_mode": {
    "name": "ipython",
    "version": 3
   },
   "file_extension": ".py",
   "mimetype": "text/x-python",
   "name": "python",
   "nbconvert_exporter": "python",
   "pygments_lexer": "ipython3",
   "version": "3.7.3"
  }
 },
 "nbformat": 4,
 "nbformat_minor": 2
}
